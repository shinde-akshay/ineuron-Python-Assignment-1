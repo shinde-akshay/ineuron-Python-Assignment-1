{
 "cells": [
  {
   "cell_type": "code",
   "execution_count": 9,
   "id": "b70371aa",
   "metadata": {},
   "outputs": [
    {
     "name": "stdout",
     "output_type": "stream",
     "text": [
      "Enter Kiometer value:12\n",
      "12.0  Kilometer is equal to 7.46 miles\n"
     ]
    }
   ],
   "source": [
    "#1. Write a Python program to convert kilometers to miles?\n",
    "k_meter = float(input(\"Enter Kiometer value:\"))\n",
    "con_fact = 0.621371\n",
    "miles = k_meter * con_fact\n",
    "print(k_meter,\" Kilometer is equal to %0.2f miles\"%(miles))"
   ]
  },
  {
   "cell_type": "code",
   "execution_count": 13,
   "id": "eea4b808",
   "metadata": {},
   "outputs": [
    {
     "name": "stdout",
     "output_type": "stream",
     "text": [
      "Enter celcious value112.22\n",
      "112.22 celcious is equal to 234.00 farenheight\n"
     ]
    }
   ],
   "source": [
    "#2. Write a Python program to convert Celsius to Fahrenheit?\n",
    "celc = float(input(\"Enter celcious value\"))\n",
    "far_height = ((celc * 9) / 5 + 32)\n",
    "print(\"%0.2f celcious is equal to %0.2f farenheight\"%(celc,far_height))"
   ]
  },
  {
   "cell_type": "code",
   "execution_count": 16,
   "id": "ea9dbb0b",
   "metadata": {},
   "outputs": [
    {
     "name": "stdout",
     "output_type": "stream",
     "text": [
      "Enter Year:2022\n",
      "Enter Month:8\n",
      "    August 2022\n",
      "Mo Tu We Th Fr Sa Su\n",
      " 1  2  3  4  5  6  7\n",
      " 8  9 10 11 12 13 14\n",
      "15 16 17 18 19 20 21\n",
      "22 23 24 25 26 27 28\n",
      "29 30 31\n",
      "\n"
     ]
    }
   ],
   "source": [
    "#3. Write a Python program to display calendar?\n",
    "import calendar\n",
    "y = int(input(\"Enter Year:\"))\n",
    "m = int(input(\"Enter Month:\"))\n",
    "print(calendar.month(y,m))"
   ]
  },
  {
   "cell_type": "code",
   "execution_count": 17,
   "id": "f73b15bd",
   "metadata": {},
   "outputs": [
    {
     "name": "stdout",
     "output_type": "stream",
     "text": [
      "The Solution are (-1-1.4142135623730951j) and (-1+1.4142135623730951j)\n"
     ]
    }
   ],
   "source": [
    "#4. Write a Python program to solve quadratic equation?\n",
    "import cmath\n",
    "\n",
    "a = 1\n",
    "b = 2\n",
    "c = 3\n",
    "d = (b**2) - (4*a*c)\n",
    "\n",
    "s1 = (-b-cmath.sqrt(d))/(2*a)\n",
    "s2 = (-b+cmath.sqrt(d))/(2*a)\n",
    "print('The Solution are {0} and {1}'.format(s1,s2))"
   ]
  },
  {
   "cell_type": "code",
   "execution_count": 18,
   "id": "b30e4719",
   "metadata": {},
   "outputs": [
    {
     "name": "stdout",
     "output_type": "stream",
     "text": [
      "Swap result a =  200  b =  100\n"
     ]
    }
   ],
   "source": [
    "#5. Write a Python program to swap two variables without temp variable?\n",
    "a = 100\n",
    "b = 200\n",
    "a = a + b\n",
    "b = a - b\n",
    "a = a - b\n",
    "print('Swap result a = ',a,' b = ',b)"
   ]
  },
  {
   "cell_type": "code",
   "execution_count": null,
   "id": "b91d22b9",
   "metadata": {},
   "outputs": [],
   "source": []
  }
 ],
 "metadata": {
  "kernelspec": {
   "display_name": "Python 3 (ipykernel)",
   "language": "python",
   "name": "python3"
  },
  "language_info": {
   "codemirror_mode": {
    "name": "ipython",
    "version": 3
   },
   "file_extension": ".py",
   "mimetype": "text/x-python",
   "name": "python",
   "nbconvert_exporter": "python",
   "pygments_lexer": "ipython3",
   "version": "3.9.7"
  }
 },
 "nbformat": 4,
 "nbformat_minor": 5
}
