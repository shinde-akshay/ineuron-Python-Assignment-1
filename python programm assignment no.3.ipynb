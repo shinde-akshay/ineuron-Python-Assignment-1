{
 "cells": [
  {
   "cell_type": "code",
   "execution_count": 3,
   "id": "896ac3a1",
   "metadata": {},
   "outputs": [
    {
     "name": "stdout",
     "output_type": "stream",
     "text": [
      "0\n",
      "Number is zero\n"
     ]
    }
   ],
   "source": [
    "#1. Write a Python Program to Check if a Number is Positive, Negative or Zero?\n",
    "a = int(input())\n",
    "if a > 0:\n",
    "    print(\"Positive Number\")\n",
    "elif a < 0:\n",
    "    print(\"Negative Number\")\n",
    "else:\n",
    "    print(\"Number is zero\")"
   ]
  },
  {
   "cell_type": "code",
   "execution_count": 8,
   "id": "b16adfe0",
   "metadata": {},
   "outputs": [
    {
     "name": "stdout",
     "output_type": "stream",
     "text": [
      "12\n",
      "Even Number\n"
     ]
    }
   ],
   "source": [
    "#2. Write a Python Program to Check if a Number is Odd or Even?\n",
    "a = int(input())\n",
    "if a % 2 == 0:\n",
    "    print(\"Even Number\")\n",
    "else:\n",
    "    print(\"odd Number\")"
   ]
  },
  {
   "cell_type": "code",
   "execution_count": 15,
   "id": "cd575e1e",
   "metadata": {},
   "outputs": [
    {
     "name": "stdout",
     "output_type": "stream",
     "text": [
      "Enter Year2004\n",
      "2004  is Leap year\n"
     ]
    }
   ],
   "source": [
    "#3. Write a Python Program to Check Leap Year?\n",
    "a = int(input(\"Enter Year\"))\n",
    "if a % 400 == 0:\n",
    "    print(a,\" is Leap Year\")\n",
    "elif a % 100 == 0:\n",
    "    print(a,\" is Not leap year\")\n",
    "elif a % 4 == 0:\n",
    "    print(a,\" is Leap year\")\n",
    "else:\n",
    "    print(a,\" is Not leap year\")"
   ]
  },
  {
   "cell_type": "code",
   "execution_count": 29,
   "id": "9dc67e47",
   "metadata": {},
   "outputs": [
    {
     "name": "stdout",
     "output_type": "stream",
     "text": [
      "Enter a no.9\n",
      "no. is not prime\n"
     ]
    }
   ],
   "source": [
    "#4. Write a Python Program to Check Prime Number?\n",
    "a = int(input(\"Enter a no.\"))\n",
    "flag = True\n",
    "if a > 1:\n",
    "    for i in range(2, a):\n",
    "        if (a % i) == 0:\n",
    "            flag = False\n",
    "            break\n",
    "if flag:\n",
    "    print(\"no. is prime\")\n",
    "else:\n",
    "    print(\"no. is not prime\")\n"
   ]
  },
  {
   "cell_type": "code",
   "execution_count": null,
   "id": "41bf078f",
   "metadata": {},
   "outputs": [],
   "source": [
    "#5. Write a Python Program to Print all Prime Numbers in an Interval of 1-10000?\n",
    "a = 10000\n",
    "list = []\n",
    "flag = True\n",
    "count = 0\n",
    "for i in range(2, a):\n",
    "    flag = True\n",
    "    for j in range(2, i):\n",
    "        if i % j == 0:\n",
    "            flag = False\n",
    "            break\n",
    "    if flag:\n",
    "        list.append(i)\n",
    "        count += 1\n",
    "print(list)\n",
    "print(\"total count = \",count)\n",
    "\n",
    "#I Checked this programm output in different compiler this shows correct output but it's not run in this compiler."
   ]
  },
  {
   "cell_type": "code",
   "execution_count": null,
   "id": "cc092a2f",
   "metadata": {},
   "outputs": [],
   "source": []
  },
  {
   "cell_type": "code",
   "execution_count": null,
   "id": "521a6e8b",
   "metadata": {},
   "outputs": [],
   "source": []
  },
  {
   "cell_type": "code",
   "execution_count": null,
   "id": "26ac3b10",
   "metadata": {},
   "outputs": [],
   "source": []
  }
 ],
 "metadata": {
  "kernelspec": {
   "display_name": "Python 3 (ipykernel)",
   "language": "python",
   "name": "python3"
  },
  "language_info": {
   "codemirror_mode": {
    "name": "ipython",
    "version": 3
   },
   "file_extension": ".py",
   "mimetype": "text/x-python",
   "name": "python",
   "nbconvert_exporter": "python",
   "pygments_lexer": "ipython3",
   "version": "3.9.7"
  }
 },
 "nbformat": 4,
 "nbformat_minor": 5
}
